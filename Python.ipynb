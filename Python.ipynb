{
 "cells": [
  {
   "cell_type": "markdown",
   "metadata": {},
   "source": [
    "### Concepts\n",
    "* suits\n",
    "* indentation\n",
    "* object (id, type and value)\n",
    "  * None, Boolean, Integer, Long, Float, Complex, String\n",
    "  * Collection - Tuple (immutable list), Set, List (mutable), Dictionary (key - value), File\n",
    "  * list for ordered collection of homogenous objects, when the collection will require to be altered over time\n",
    "  * tuple for ordered collection of heterogeneous objects, when the collection will not require to change over time\n",
    "  * set for collection of elements, when order does not matter, and the resulting collection will not have duplicates\n",
    "  * dictionary for collection of key - value pairs\n",
    "* single line comment & multi - line comment\n",
    "* operators - arithmatic, comparison, assignment, logical, membership, identity\n",
    "* loops\n",
    "* Collection\n",
    "  * list\n",
    "  * tuple\n",
    "  * set\n",
    "  * dictionary"
   ]
  },
  {
   "cell_type": "code",
   "execution_count": 2,
   "metadata": {},
   "outputs": [
    {
     "name": "stdout",
     "output_type": "stream",
     "text": [
      "programming is an important skill\n"
     ]
    }
   ],
   "source": [
    "print(\"programming is an important skill\")"
   ]
  },
  {
   "cell_type": "code",
   "execution_count": 8,
   "metadata": {},
   "outputs": [
    {
     "name": "stdout",
     "output_type": "stream",
     "text": [
      "there is exactly one item\n"
     ]
    }
   ],
   "source": [
    "count = 1\n",
    "if count == 1:\n",
    "    print(\"there is exactly one item\")\n",
    "else:\n",
    "    print(\"there are more than one item\")"
   ]
  },
  {
   "cell_type": "code",
   "execution_count": 19,
   "metadata": {},
   "outputs": [
    {
     "name": "stdout",
     "output_type": "stream",
     "text": [
      "<class 'bool'> True\n",
      "<class 'NoneType'> None\n",
      "<class 'int'> 7\n",
      "<class 'float'> 8.9\n",
      "<class 'complex'> (8+6j)\n",
      "<class 'str'> firstString\n",
      "<class 'str'> second string\n",
      "<class 'tuple'> (1, 2, 3, 'Funny Entry')\n",
      "<class 'list'> [1, 2, 2, 2, 3, 'List Entry']\n",
      "<class 'set'> {1, 2, 3, 'List Entry'}\n",
      "<class 'dict'> {'key1': 'value1', 'key2': 'value2', 'key3': 'value3'}\n"
     ]
    }
   ],
   "source": [
    "booleanObj = True\n",
    "noneObject = None\n",
    "integerObj = 7\n",
    "floatObj = 8.9\n",
    "complexObj = 8 + 6j\n",
    "firstString = 'firstString'\n",
    "secondString = \"second string\"\n",
    "tuple_ = (1,2,3,'Funny Entry')\n",
    "list_ = [1,2,2,2, 3,'List Entry']; # list is unhashable; because being mutable, it's hash can change over time\n",
    "set_ = set([1,2,2,2, 3,'List Entry']) # duplicates are eliminated\n",
    "dict_ = {'key1': 'value1', 'key2': 'value2', 'key3': 'value3'}\n",
    "\n",
    "# let's print, type and value of each object types\n",
    "print(type(booleanObj), booleanObj) \n",
    "print(type(noneObject), noneObject)\n",
    "print(type(integerObj), integerObj)\n",
    "print(type(floatObj), floatObj)\n",
    "print(type(complexObj), complexObj)\n",
    "print(type(firstString), firstString)\n",
    "print(type(secondString), secondString)\n",
    "print(type(tuple_), tuple_)\n",
    "print(type(list_),list_)\n",
    "print(type(set_), set_)\n",
    "print(type(dict_), dict_)"
   ]
  },
  {
   "cell_type": "markdown",
   "metadata": {},
   "source": [
    "### Basic operators"
   ]
  },
  {
   "cell_type": "code",
   "execution_count": 34,
   "metadata": {},
   "outputs": [
    {
     "name": "stdout",
     "output_type": "stream",
     "text": [
      "3 addition\n",
      "1 subtraction\n",
      "12 multiplication\n",
      "2.6666666666666665 devision\n",
      "2 residue\n",
      "64 = 8 to the power 2\n",
      "2 integer devision rounded towards minus infinity\n",
      "-3 observe, the outcome -2.66 is rounded upto minus infinity, hence the result is -3\n"
     ]
    }
   ],
   "source": [
    "# arithmatic operator\n",
    "print(1+2, \"addition\")\n",
    "print(3-2, \"subtraction\")\n",
    "print(4*3, \"multiplication\")\n",
    "print(8/3,\"devision\") # finds quotient \n",
    "print(8%3, \"residue\") # finds residue\n",
    "print(8**2, \"= 8 to the power 2\") # exponentiation\n",
    "print(8//3, \"integer devision rounded towards minus infinity\")\n",
    "print(-8//3, \"observe, the outcome -2.66 is rounded upto minus infinity, hence the result is -3\")"
   ]
  },
  {
   "cell_type": "code",
   "execution_count": 43,
   "metadata": {},
   "outputs": [
    {
     "name": "stdout",
     "output_type": "stream",
     "text": [
      "False Equality operator\n",
      "True Non - equality operator\n",
      "True Greater than operator\n",
      "True Lesser than operator\n",
      "True Greater than equal to operator\n",
      "True Lesser than equal to operator\n"
     ]
    }
   ],
   "source": [
    "# comparison operator\n",
    "print(5==6, \"Equality operator\")\n",
    "print(7!=8, \"Non - equality operator\")\n",
    "print(9>2, \"Greater than operator\")\n",
    "print(8<9, \"Lesser than operator\")\n",
    "print(8>=7, \"Greater than equal to operator\")\n",
    "print(9<=41, \"Lesser than equal to operator\")"
   ]
  },
  {
   "cell_type": "code",
   "execution_count": 46,
   "metadata": {},
   "outputs": [
    {
     "name": "stdout",
     "output_type": "stream",
     "text": [
      "7  = is an assignment operator\n",
      "+=; -=, *=, /=, **=; //= ... signifies an operation AND assignment\n"
     ]
    }
   ],
   "source": [
    "# assignment operator\n",
    "rhs = 7\n",
    "lhs = rhs\n",
    "print(lhs, \" = is an assignment operator\")\n",
    "print(\"+=; -=, *=, /=, **=; //= ... signifies an operation AND assignment\")"
   ]
  },
  {
   "cell_type": "code",
   "execution_count": 53,
   "metadata": {},
   "outputs": [
    {
     "name": "stdout",
     "output_type": "stream",
     "text": [
      "0 bitwise AND\n",
      "15 bitwise OR\n",
      "15 bitwise XOR\n",
      "0 bitwise Right Shift\n",
      "1792 bitwise Left Shift\n",
      "-8 bitwise NOT\n"
     ]
    }
   ],
   "source": [
    "# bitwise operator\n",
    "x = 7\n",
    "y = 8\n",
    "print(x & y, \"bitwise AND\")\n",
    "print(x | y, \"bitwise OR\")\n",
    "print(x ^ y, \"bitwise XOR\")\n",
    "print(x >> y, \"bitwise Right Shift\")\n",
    "print(x << y, \"bitwise Left Shift\")\n",
    "print(~x, \"bitwise NOT\")"
   ]
  },
  {
   "cell_type": "code",
   "execution_count": 57,
   "metadata": {},
   "outputs": [
    {
     "name": "stdout",
     "output_type": "stream",
     "text": [
      "False\n",
      "True\n",
      "True\n"
     ]
    }
   ],
   "source": [
    "# logical operator\n",
    "x = True\n",
    "y = False\n",
    "print (x and y)\n",
    "print(x or y)\n",
    "print(not(x and y))"
   ]
  },
  {
   "cell_type": "code",
   "execution_count": 59,
   "metadata": {},
   "outputs": [
    {
     "name": "stdout",
     "output_type": "stream",
     "text": [
      "True\n",
      "True\n"
     ]
    }
   ],
   "source": [
    "# membership operator\n",
    "someList = [1,5,6,7,8]\n",
    "print(5 in someList)\n",
    "print(89 not in someList)"
   ]
  },
  {
   "cell_type": "code",
   "execution_count": 61,
   "metadata": {},
   "outputs": [
    {
     "name": "stdout",
     "output_type": "stream",
     "text": [
      "True\n",
      "True\n"
     ]
    }
   ],
   "source": [
    "# identity operator\n",
    "# is and not is - are two operators which indicates if two variables point to the same memory location\n",
    "x = 5\n",
    "y = x\n",
    "print(x is y)\n",
    "z = 7\n",
    "y = z\n",
    "print(x is not y)"
   ]
  },
  {
   "cell_type": "code",
   "execution_count": 7,
   "metadata": {},
   "outputs": [
    {
     "name": "stdout",
     "output_type": "stream",
     "text": [
      "it is greater than 2\n",
      "apple\n",
      "guava\n",
      "orange\n",
      "looping has ended\n",
      "\n",
      "\n",
      "index based iteration\n",
      "0 apple\n",
      "1 guava\n",
      "2 orange\n",
      "\n",
      "\n",
      "simple collection iteration\n",
      "1\n",
      "2\n",
      "3\n",
      "4\n",
      "5\n"
     ]
    }
   ],
   "source": [
    "# control structure\n",
    "value = 9\n",
    "if value > 2:\n",
    "    print(\"it is greater than 2\")\n",
    "elif value < 10:\n",
    "    print(\"it is lesser than 10\")\n",
    "else:\n",
    "    print(\"it is a funny number\")\n",
    "    \n",
    "# note, unlike many other languages, Python supports else for - loops.\n",
    "fruits = ['apple', 'guava', 'orange']\n",
    "\n",
    "# implementation - 1\n",
    "for fruit in fruits:\n",
    "    print(fruit)\n",
    "else:\n",
    "    print(\"looping has ended\")\n",
    "    \n",
    "# implementation - 2\n",
    "print()\n",
    "print()\n",
    "print(\"index based iteration\")\n",
    "for index in range(len(fruits)):\n",
    "    print (index, fruits[index])\n",
    "    \n",
    "# implementation - 3\n",
    "print()\n",
    "print()\n",
    "print(\"simple collection iteration\")\n",
    "for iterator in [1,2,3,4,5]:\n",
    "    print(iterator)   "
   ]
  },
  {
   "cell_type": "markdown",
   "metadata": {},
   "source": [
    "### List"
   ]
  },
  {
   "cell_type": "code",
   "execution_count": 54,
   "metadata": {},
   "outputs": [
    {
     "name": "stdout",
     "output_type": "stream",
     "text": [
      "John\n",
      "3\n",
      "['Robert', 'John', 'Sunil', 'Hoff', 'Rolle', 'Birt']\n",
      "['copyOfString', 'copyOfString', 'copyOfString', 'copyOfString', 'copyOfString', 'copyOfString', 'copyOfString']\n",
      "True\n",
      "Robert\n",
      "John\n",
      "Sunil\n",
      "first element ['Robert']\n",
      "second element ['John']\n",
      "last 2 elements ['John', 'Sunil']\n",
      "first 2 elements ['Robert', 'John']\n",
      "reversed ['Sunil', 'John', 'Robert']\n",
      "max is  9\n",
      "min is  1\n",
      "['Blue Car']\n",
      "3 appeared so many time  4\n",
      "['ice-cream', 'noddle', 'burger', 'pizza', 'cream']\n",
      "['Blue Car', 'Red Car']\n",
      "Sunil\n",
      "None\n"
     ]
    }
   ],
   "source": [
    "# List\n",
    "\n",
    "# CREATE \n",
    "\n",
    "# 1) creating list \n",
    "listOfEmployeeName = ['Robert', 'John', 'Sunil']\n",
    "\n",
    "# READ\n",
    "\n",
    "# 2) accessing items from list by index\n",
    "print(listOfEmployeeName[1])\n",
    "# 3) findings lenght of the list\n",
    "print(len(listOfEmployeeName))\n",
    "#4) concatenation of lists\n",
    "listOfEmployeeSurname = ['Hoff', 'Rolle', 'Birt']\n",
    "print(listOfEmployeeName+listOfEmployeeSurname)\n",
    "#5) repeating elements\n",
    "print(['copyOfString']*7)\n",
    "#6) finding membership\n",
    "print('Hoff' in listOfEmployeeSurname)\n",
    "#7) performing iteration\n",
    "for name in listOfEmployeeName:\n",
    "    print(name)\n",
    "#8) slicing (using [start : stop : steps] )\n",
    "# first element\n",
    "print('first element',listOfEmployeeName[0:1:1])\n",
    "#second element\n",
    "print('second element', listOfEmployeeName[1:2:1])\n",
    "#last 2 elements \n",
    "print('last 2 elements', listOfEmployeeName[1:3:]) # note in slicing method, start is inclusive and stop is explusive... hence item till stop - 1 will be considered\n",
    "#first 2 elements\n",
    "print('first 2 elements', listOfEmployeeName[0:2:1])\n",
    "#reverse \n",
    "print('reversed', listOfEmployeeName[::-1])\n",
    "#9) find max and min\n",
    "print('max is ', max([8,6,7,9]))\n",
    "print('min is ', min([9,7,6,2,1]))\n",
    "#10) append object to the list\n",
    "listOfCar = []\n",
    "listOfCar.append('Blue Car')\n",
    "print(listOfCar)\n",
    "#11) count item occurance\n",
    "listOfItemPurchased = [3,6,3,4,5,7,2,3,5,6,7,8,3,5,6,8,2,1]\n",
    "print('3 appeared so many time ', listOfItemPurchased.count(3))\n",
    "\n",
    "# UPDATE\n",
    "\n",
    "#12) appending content to the list\n",
    "listOfJunkFood = ['ice-cream', 'noddle']\n",
    "listOfSuperJunkFood = ['burger', 'pizza', 'cream']\n",
    "listOfJunkFood.extend(listOfSuperJunkFood)\n",
    "print(listOfJunkFood)\n",
    "#13) insert object at a desired position in the list\n",
    "listOfCar.insert(1,\"Red Car\")\n",
    "print(listOfCar)\n",
    "\n",
    "# DELETE\n",
    "\n",
    "#14) pop last element from the list\n",
    "print(listOfEmployeeName.pop())\n",
    "#15) remove object from list\n",
    "print(listOfEmployeeSurname.remove('Birt'))"
   ]
  },
  {
   "cell_type": "markdown",
   "metadata": {},
   "source": [
    "### Tuple is similar to list, except the fact that tuple are immutable"
   ]
  },
  {
   "cell_type": "markdown",
   "metadata": {},
   "source": [
    "## Set\n",
    "\n",
    "Features of Sets\n",
    "* Mutable\n",
    "* Unordered\n",
    "* Does not support duplicate"
   ]
  },
  {
   "cell_type": "code",
   "execution_count": 35,
   "metadata": {
    "scrolled": true
   },
   "outputs": [
    {
     "name": "stdout",
     "output_type": "stream",
     "text": [
      "{'Bengali', 'Hindi', 'French', 'English'}\n",
      "{'Hindi', 'Bengali', 'Russian', 'English', 'French'}\n",
      "{'Hindi', 'Bengali', 'Russian', ('Hindi', 'Bengali', 'Marathi', 'Tamil'), 'English', 'French'} <class 'set'>\n",
      "anotherLanguageSet {'Bengali', 'Hindi', ('Hindi', 'Bengali', 'Marathi', 'Tamil'), 'English'}\n",
      "['Bengali']\n",
      "[('Hindi', 'Bengali', 'Marathi', 'Tamil')]\n",
      "anotherLanguageSet after updating {'Hindi', 'Bengali', 'second', ('Hindi', 'Bengali', 'Marathi', 'Tamil'), 'English', 'first'}\n",
      "anotherLanguageSet after updating {'Hindi', 'Bengali', 'second', ('Hindi', 'Bengali', 'Marathi', 'Tamil'), 'English'}\n",
      "observe that the intersection outcome, has eliminated duplicates {1, 2, 3, 4, 5, 6}\n",
      "union can be achived via union function {1, 2, 3, 4, 5, 6}\n",
      "intersection results into finding common elements from both sets {2, 3, 4, 5}\n",
      "find the elements which are in firstSet and NOT in secondSet {1}\n",
      "symmetric difference finds elements which are not available considering all sets in concern {1, 6}\n"
     ]
    }
   ],
   "source": [
    "# Create\n",
    "\n",
    "simpleSet = {'firstElement', 'secondElement', 'thirdElement'}\n",
    "languages = set(['English', 'Bengali', 'Hindi', 'French', 'Bengali'])\n",
    "print(languages)\n",
    "\n",
    "# add an element to the set\n",
    "languages.add('Russian')\n",
    "print(languages)\n",
    "\n",
    "# set can be created with mixed data type\n",
    "indianLanguages = ('Hindi', 'Bengali', 'Marathi', 'Tamil')\n",
    "languages.add(indianLanguages)\n",
    "\n",
    "# point to note, is the tuple stays intact while being part of the set\n",
    "anotherLanguageSet = {'English', 'Bengali', 'Hindi', ('Hindi', 'Bengali', 'Marathi', 'Tamil')}\n",
    "print(languages, type(languages))\n",
    "print('anotherLanguageSet',anotherLanguageSet)\n",
    "\n",
    "\n",
    "# Read\n",
    "\n",
    "# Set can never be directly read; hence sets are converted into list before applying slicing operator\n",
    "\n",
    "print(list(anotherLanguageSet)[0:1:1]) # starting from 0th element, go upto 1st element, exclude 1st element, progress on a step size of 1\n",
    "print(list(anotherLanguageSet)[2:3:]) # note here, that the tuple is treated as one element\n",
    "\n",
    "\n",
    "# Updating\n",
    "\n",
    "# key functions - add (for simgle entry) & update (for multiple entry)\n",
    "\n",
    "anotherLanguageSet.update(['first', 'first', 'first', 'second'])\n",
    "print('anotherLanguageSet after updating',anotherLanguageSet) # observe in the outcome, that the duplicates have been removed by the update method\n",
    "\n",
    "# Delete\n",
    "\n",
    "# key functions - discard and remove\n",
    "anotherLanguageSet.discard('first')\n",
    "print('anotherLanguageSet after updating',anotherLanguageSet) #\n",
    "anotherLanguageSet.discard('first') # discard does not raise an exception when the item to be discared is not found.; however remove will raise\n",
    "\n",
    "\n",
    "# Mathematical Operations\n",
    "\n",
    "# key functions - union, intersection, difference, and symmetric difference\n",
    "\n",
    "# union\n",
    "firstSet = {1,2,3,4,5}\n",
    "secondSet = {2,3,4,5,6}\n",
    "print('observe that the intersection outcome, has eliminated duplicates',firstSet | secondSet)\n",
    "print('union can be achived via union function',firstSet.union(secondSet))\n",
    "\n",
    "# intersection\n",
    "print('intersection results into finding common elements from both sets',firstSet.intersection(secondSet))\n",
    "\n",
    "# unlike, intersection which finds common elements, difference function finds the element that are present in one and not in others\n",
    "print('find the elements which are in firstSet and NOT in secondSet', firstSet.difference(secondSet))\n",
    "\n",
    "# symmetric difference\n",
    "print('symmetric difference finds elements which are not available considering all sets in concern', firstSet.symmetric_difference(secondSet))\n",
    "\n",
    "# other important methods\n",
    "# copy, sum, len, min, max, sorted, isdisjoint, issubset, issuperset"
   ]
  },
  {
   "cell_type": "markdown",
   "metadata": {},
   "source": [
    "### Dictionary\n",
    "\n",
    "Dictionaries consists of Key - Value pair, separated by :\n",
    "Each KV pair is separetd from each other via ;\n"
   ]
  },
  {
   "cell_type": "code",
   "execution_count": 11,
   "metadata": {},
   "outputs": [
    {
     "name": "stdout",
     "output_type": "stream",
     "text": [
      "{'firstKey': 'firstValue', 'secondKey': 'secondValue'}\n",
      "firstValue\n",
      "{'firstKey': 'newValue', 'secondKey': 'secondValue'}\n",
      "{'secondKey': 'secondValue'}\n",
      "1\n",
      "{'secondKey': 'secondValue'}\n",
      "{'first': 90, 'second': 90, 'third': 90}\n",
      "dict_keys(['secondKey'])\n",
      "dict_values(['secondValue'])\n"
     ]
    }
   ],
   "source": [
    "# Create\n",
    "_map = {\"firstKey\": \"firstValue\", \"secondKey\": \"secondValue\"}\n",
    "print(_map)\n",
    "\n",
    "# Read\n",
    "print(_map[\"firstKey\"])\n",
    "\n",
    "# Update\n",
    "_map[\"firstKey\"] = \"newValue\"\n",
    "print(_map)\n",
    "\n",
    "# Delete\n",
    "del _map[\"firstKey\"]\n",
    "print(_map)\n",
    "\n",
    "# finding length of dictionary\n",
    "print(len(_map))\n",
    "\n",
    "# getting a string representation of a dictionary\n",
    "print(str(_map))\n",
    "\n",
    "# creating a shallow copy of dictionary \n",
    "\n",
    "\n",
    "# creating a new dictionary with key\n",
    "keyTuple = ('first', 'second', 'third')\n",
    "newMap = dict.fromkeys(keyTuple, 90)\n",
    "print(newMap)\n",
    "\n",
    "# optionally find value for a key\n",
    "# find presence of a key inside a dictionary \n",
    "\n",
    "# get (key,value) tuples\n",
    "\n",
    "\n",
    "# get keys\n",
    "print(_map.keys())\n",
    "\n",
    "# coalesce a dictionary to another\n",
    "# return values associated with the dictionary\n",
    "print(_map.values())\n",
    "\n"
   ]
  },
  {
   "cell_type": "markdown",
   "metadata": {},
   "source": [
    "### User Defined Function"
   ]
  },
  {
   "cell_type": "code",
   "execution_count": 4,
   "metadata": {},
   "outputs": [
    {
     "name": "stdout",
     "output_type": "stream",
     "text": [
      "10\n",
      "d\n",
      "7\n",
      "name John\n",
      "surname Doe\n",
      "None\n",
      "Super - Man\n",
      "He-Man\n",
      "Drink  0.2  of water for so many times -  5\n"
     ]
    }
   ],
   "source": [
    "# functions are defined using def keyword\n",
    "# function takes list of input, that can be accessed using *args variable\n",
    "# function takes comma separated list of key - value inputs, that can be accessed usng *kargs variable\n",
    "# function needs to explicitely return value\n",
    "# if a function does not return a value, it is named as subprocedure\n",
    "\n",
    "def equation(x,y):\n",
    "    return 2*x + y;\n",
    "print(equation(2,6))\n",
    "\n",
    "def lastWordFinder(inputStr):\n",
    "    return inputStr[len(inputStr)-1:len(inputStr):];\n",
    "\n",
    "print(lastWordFinder(\"abcd\"))\n",
    "\n",
    "def processListOfValue(*args):\n",
    "    counter = 0;\n",
    "    for a in args: \n",
    "        counter=counter + 1\n",
    "    return counter;    \n",
    "    \n",
    "print(processListOfValue(1,2,3,4,5,6,7))\n",
    "\n",
    "def processKeyValuePairs(**kwargs):\n",
    "    for a in kwargs:\n",
    "        print(a, kwargs[a])\n",
    "\n",
    "print(processKeyValuePairs(name='John', surname='Doe'))\n",
    "\n",
    "# global variable\n",
    "hero='He-Man'\n",
    "\n",
    "def heroDefiner() :\n",
    "    # within the function, a new scope is initiated, that ensures, the copy of hero is different than the global variable hero\n",
    "    hero = 'Super - Man'\n",
    "    print (hero)\n",
    "\n",
    "heroDefiner()\n",
    "print(hero)\n",
    "\n",
    "# default argument (should follow non - default argument)\n",
    "def drinkWater(time,litre=0.2):\n",
    "    print('Drink ',litre,' of water for so many times - ',time)\n",
    "    \n",
    "drinkWater(5)"
   ]
  },
  {
   "cell_type": "markdown",
   "metadata": {},
   "source": [
    "### Exception Handling"
   ]
  },
  {
   "cell_type": "code",
   "execution_count": 8,
   "metadata": {},
   "outputs": [
    {
     "name": "stdout",
     "output_type": "stream",
     "text": [
      "devide by zero exception has been raised\n",
      "printing the finally block\n"
     ]
    }
   ],
   "source": [
    "try:\n",
    "    a = 0\n",
    "    b = 1\n",
    "    print('raising an exception', b/a)\n",
    "except ZeroDivisionError:\n",
    "    print('devide by zero exception has been raised')\n",
    "finally:\n",
    "    print('printing the finally block')"
   ]
  }
 ],
 "metadata": {
  "kernelspec": {
   "display_name": "Python 3",
   "language": "python",
   "name": "python3"
  },
  "language_info": {
   "codemirror_mode": {
    "name": "ipython",
    "version": 3
   },
   "file_extension": ".py",
   "mimetype": "text/x-python",
   "name": "python",
   "nbconvert_exporter": "python",
   "pygments_lexer": "ipython3",
   "version": "3.8.0b4"
  }
 },
 "nbformat": 4,
 "nbformat_minor": 2
}
